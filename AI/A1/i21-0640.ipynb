{
 "cells": [
  {
   "cell_type": "markdown",
   "id": "fdccf4cd-1f48-4f10-856a-085c44284e24",
   "metadata": {},
   "source": [
    "Muneel Haider\n",
    "21i-0640\n",
    "CS-G\n",
    "\n",
    "AI - Assignment 1"
   ]
  },
  {
   "cell_type": "code",
   "execution_count": 65,
   "id": "9fad0525-c288-4743-81db-5f9cf0d6b9b3",
   "metadata": {},
   "outputs": [],
   "source": [
    "import itertools\n",
    "import heapq\n",
    "import re"
   ]
  },
  {
   "cell_type": "code",
   "execution_count": 66,
   "id": "e82e3f07-3259-45f6-8a53-6c65d2f8126d",
   "metadata": {},
   "outputs": [],
   "source": [
    "def readData(file_path):\n",
    "\n",
    "    array = {}\n",
    "    with open(file_path, 'r') as file:\n",
    "\n",
    "        for line in file:\n",
    "            lineRead = re.match(r'(\\d+),\\{(.*)\\},([\\d.-]+)', line)\n",
    "\n",
    "            if lineRead:\n",
    "                vertex = int(lineRead.group(1))\n",
    "                cost = float(lineRead.group(3))\n",
    "                parentBlock = lineRead.group(2)\n",
    "                parent = tuple(map(int, parentBlock.split(','))) if parentBlock else ()\n",
    "                \n",
    "                if vertex not in array:\n",
    "                    array[vertex] = []\n",
    "\n",
    "                array[vertex].append((parent, cost))\n",
    "\n",
    "    return array\n"
   ]
  },
  {
   "cell_type": "code",
   "execution_count": 67,
   "id": "234ca8cc-acf7-415c-953d-b91a0687269a",
   "metadata": {},
   "outputs": [],
   "source": [
    "def orderingCheck(ordering, parent):\n",
    "    return set(parent).issubset(set(ordering))\n",
    "\n",
    "\n",
    "def minCostOfVertex(vertex, parents, ordering):\n",
    "    validCosts = [cost for parent, cost in parents if orderingCheck(ordering, parent)]\n",
    "    return min(validCosts) if validCosts else float('inf')"
   ]
  },
  {
   "cell_type": "code",
   "execution_count": 68,
   "id": "8ce62f3c-d86e-48ed-bbac-dd5c56be664f",
   "metadata": {},
   "outputs": [],
   "source": [
    "def totalCostCalc(array, ordering):\n",
    "    total_cost = 0\n",
    "\n",
    "    for vertex in ordering:\n",
    "        cost = minCostOfVertex(vertex, array[vertex], ordering[:ordering.index(vertex)])\n",
    "    \n",
    "        if cost == float('inf'):\n",
    "            return float('inf') \n",
    "    \n",
    "        total_cost += cost\n",
    "    return total_cost"
   ]
  },
  {
   "cell_type": "code",
   "execution_count": 69,
   "id": "93ba8eff-644f-4612-a93a-901147b5e3c3",
   "metadata": {},
   "outputs": [],
   "source": [
    "def AlgoBFS(array):\n",
    "    vertices = list(array.keys())\n",
    "    allOrders = itertools.permutations(vertices)\n",
    "    minCost = float('inf')\n",
    "    optimalOrdering = None\n",
    "    \n",
    "    for ordering in allOrders:\n",
    "        currentCost = totalCostCalc(array, ordering)\n",
    "        \n",
    "        if currentCost < minCost:\n",
    "            minCost = currentCost\n",
    "            optimalOrdering = ordering\n",
    "    \n",
    "    return optimalOrdering, minCost"
   ]
  },
  {
   "cell_type": "code",
   "execution_count": 70,
   "id": "c06bc51b-4cf0-41a7-8f27-aaa30f946f6a",
   "metadata": {},
   "outputs": [],
   "source": [
    "def AlgoDFS(array):\n",
    "    vertices = list(array.keys())\n",
    "    stack = [([], 0)]  \n",
    "    minCost = float('inf')\n",
    "    optimalOrdering = []\n",
    "\n",
    "    while stack:\n",
    "        currentOrdering, currentCost = stack.pop()\n",
    "        \n",
    "        if len(currentOrdering) == len(vertices):\n",
    "           \n",
    "            if currentCost < minCost:\n",
    "                minCost = currentCost\n",
    "                optimalOrdering = currentOrdering\n",
    "            continue\n",
    "        \n",
    "        for vertex in vertices[::-1]:  \n",
    "            \n",
    "            if vertex not in currentOrdering:\n",
    "                newOrder = currentOrdering + [vertex]\n",
    "                newCost = totalCostCalc(array, newOrder)\n",
    "            \n",
    "                if newCost < minCost:\n",
    "                    stack.append((newOrder, newCost))\n",
    "    \n",
    "    return optimalOrdering, minCost"
   ]
  },
  {
   "cell_type": "code",
   "execution_count": 71,
   "id": "c179e303-c18e-4ca9-9107-f214307880ba",
   "metadata": {},
   "outputs": [],
   "source": [
    "def AlgoUCS(array):\n",
    "    vertices = list(array.keys())\n",
    "    priorityQueue = [((0, []))] \n",
    "    minCost = float('inf')\n",
    "    optimalOrdering = []\n",
    "\n",
    "    while priorityQueue:\n",
    "        currentCost, currentOrdering = heapq.heappop(priorityQueue)\n",
    "        \n",
    "        if len(currentOrdering) == len(vertices):\n",
    "       \n",
    "            if currentCost < minCost:\n",
    "                minCost = currentCost\n",
    "                optimalOrdering = currentOrdering\n",
    "            continue\n",
    "        \n",
    "        for vertex in vertices:\n",
    "       \n",
    "            if vertex not in currentOrdering:\n",
    "                newOrder = currentOrdering + [vertex]\n",
    "                newCost = totalCostCalc(array, newOrder)\n",
    "       \n",
    "                if newCost < minCost:\n",
    "                    heapq.heappush(priorityQueue, (newCost, newOrder))\n",
    "    \n",
    "    return optimalOrdering, minCost"
   ]
  },
  {
   "cell_type": "code",
   "execution_count": 72,
   "id": "ffb108c4-1093-42c4-97f9-724139845123",
   "metadata": {},
   "outputs": [
    {
     "name": "stdout",
     "output_type": "stream",
     "text": [
      "{1: [((), 153.466), ((3,), 96.093), ((4,), 97.913), ((5,), 99.835)], 2: [((), 141.023), ((3,), 122.446), ((4,), 121.576), ((5,), 123.398)], 3: [((), 169.482), ((1,), 112.109), ((2,), 150.906), ((1, 2), 107.516), ((4,), 51.681), ((5,), 41.775)], 4: [((), 169.482), ((1,), 113.929), ((2,), 150.036), ((1, 2), 108.982), ((3,), 51.681), ((5,), 36.188)], 5: [((), 169.802), ((1,), 116.171), ((2,), 152.178), ((1, 2), 111.473), ((3,), 42.096), ((4,), 36.508)]}\n"
     ]
    }
   ],
   "source": [
    "file_path = 'data0.txt'\n",
    "array = readData(file_path)\n",
    "print(array)"
   ]
  },
  {
   "cell_type": "code",
   "execution_count": 73,
   "id": "16704c4a-e5bd-4239-b41d-d6af9852db37",
   "metadata": {},
   "outputs": [
    {
     "name": "stdout",
     "output_type": "stream",
     "text": [
      "BFS Optimal Ordering: (4, 2, 5, 3, 1), Cost: 465.43399999999997\n"
     ]
    }
   ],
   "source": [
    "resultBFS, costBFS = AlgoBFS(array)\n",
    "print(f\"BFS Optimal Ordering: {resultBFS}, Cost: {costBFS}\")"
   ]
  },
  {
   "cell_type": "code",
   "execution_count": 74,
   "id": "858613b3-241c-421e-9d3f-321699b86df3",
   "metadata": {},
   "outputs": [
    {
     "name": "stdout",
     "output_type": "stream",
     "text": [
      "DFS Optimal Ordering: [4, 2, 5, 3, 1], Cost: 465.43399999999997\n"
     ]
    }
   ],
   "source": [
    "resultDFS, costDFS = AlgoDFS(array)\n",
    "print(f\"DFS Optimal Ordering: {resultDFS}, Cost: {costDFS}\")"
   ]
  },
  {
   "cell_type": "code",
   "execution_count": 75,
   "id": "55c7b17d-7346-4602-935a-36854d6712d7",
   "metadata": {},
   "outputs": [
    {
     "name": "stdout",
     "output_type": "stream",
     "text": [
      "UCS Optimal Ordering: [4, 2, 5, 3, 1], Cost: 465.43399999999997\n"
     ]
    }
   ],
   "source": [
    "resultUCS, costUCS = AlgoUCS(array)\n",
    "print(f\"UCS Optimal Ordering: {resultUCS}, Cost: {costUCS}\")"
   ]
  }
 ],
 "metadata": {
  "kernelspec": {
   "display_name": "Python 3 (ipykernel)",
   "language": "python",
   "name": "python3"
  },
  "language_info": {
   "codemirror_mode": {
    "name": "ipython",
    "version": 3
   },
   "file_extension": ".py",
   "mimetype": "text/x-python",
   "name": "python",
   "nbconvert_exporter": "python",
   "pygments_lexer": "ipython3",
   "version": "3.12.1"
  }
 },
 "nbformat": 4,
 "nbformat_minor": 5
}
