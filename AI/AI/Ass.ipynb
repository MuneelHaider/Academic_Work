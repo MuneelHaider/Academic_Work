{
 "cells": [
  {
   "cell_type": "code",
   "execution_count": null,
   "metadata": {},
   "outputs": [],
   "source": [
    "# No external libraries used"
   ]
  },
  {
   "cell_type": "code",
   "execution_count": null,
   "metadata": {},
   "outputs": [],
   "source": [
    "def parse_data_file(file_path):\n",
    "    with open(file_path, 'r') as file:\n",
    "        data = file.readlines()\n",
    "    nodes = []\n",
    "    for line in data:\n",
    "        parts = line.strip().split(',')\n",
    "        vertex = int(parts[0])\n",
    "        parents = set(map(int, parts[1].strip('{}').split('|'))) if parts[1] != '{}' else set()\n",
    "        cost = float(parts[2])\n",
    "        nodes.append({'vertex': vertex, 'parents': parents, 'cost': cost})\n",
    "    return nodes\n"
   ]
  },
  {
   "cell_type": "code",
   "execution_count": null,
   "metadata": {},
   "outputs": [],
   "source": [
    "class ProblemSpace:\n",
    "    def __init__(self, nodes):\n",
    "        self.nodes = nodes\n",
    "        self.initial_state = []\n",
    "        self.vertices = {node['vertex'] for node in nodes}\n",
    "    \n",
    "    def is_goal_state(self, state):\n",
    "        # The goal is reached when all vertices are included in the state\n",
    "        return set(state) == self.vertices\n",
    "    \n",
    "    def get_successors(self, state):\n",
    "        # Generate successors by adding a vertex not in the current state\n",
    "        successors = []\n",
    "        for vertex in self.vertices:\n",
    "            if vertex not in state:\n",
    "                new_state = state + [vertex]\n",
    "                successors.append(new_state)\n",
    "        return successors\n",
    "\n",
    "    def get_successors_with_costs(self, state):\n",
    "        # Similar to get_successors but includes path cost\n",
    "        successors = []\n",
    "        for vertex in self.vertices:\n",
    "            if vertex not in state:\n",
    "                new_state = state + [vertex]\n",
    "                new_cost = self.calculate_cost(new_state)\n",
    "                successors.append((new_state, new_cost))\n",
    "        return successors\n",
    "    \n",
    "    def calculate_cost(self, state):\n",
    "        # Calculates total cost for a given state\n",
    "        total_cost = 0\n",
    "        for vertex in state:\n",
    "            for node in self.nodes:\n",
    "                if node['vertex'] == vertex:\n",
    "                    total_cost += node['cost']\n",
    "        return total_cost\n"
   ]
  }
 ],
 "metadata": {
  "language_info": {
   "name": "python"
  }
 },
 "nbformat": 4,
 "nbformat_minor": 2
}
