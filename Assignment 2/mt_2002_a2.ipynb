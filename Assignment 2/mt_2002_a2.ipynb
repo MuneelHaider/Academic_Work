{
 "cells": [
  {
   "cell_type": "code",
   "execution_count": 1,
   "id": "ad281d41-5942-477b-af17-5891f9fe6dc4",
   "metadata": {},
   "outputs": [
    {
     "name": "stderr",
     "output_type": "stream",
     "text": [
      "WARNING (pytensor.tensor.blas): Using NumPy C-API based implementation for BLAS functions.\n"
     ]
    }
   ],
   "source": [
    "import pandas as pd\n",
    "import pymc as pm\n",
    "import numpy as np\n",
    "import pandas as pd\n",
    "import scipy.stats as stats\n",
    "import matplotlib.pyplot as plt\n",
    "import arviz as az"
   ]
  },
  {
   "cell_type": "code",
   "execution_count": null,
   "id": "eaa61c12-3757-471e-924c-8b0d59f93136",
   "metadata": {},
   "outputs": [],
   "source": []
  },
  {
   "cell_type": "markdown",
   "id": "e4ee4d72-778c-468a-a854-79f8b7ffedda",
   "metadata": {},
   "source": [
    "You have been provided with a pre-processed dataset-->[Micro Gas Turbine Electrical Energy Prediction](https://archive.ics.uci.edu/dataset/994/micro+gas+turbine+electrical+energy+prediction) containing variables X and Y. Your task is to fit a Bayesian linear regression model using PyMC, estimate the model parameters, and analyze their posterior distributions, just like we disscussed in simple linear model\n"
   ]
  },
  {
   "cell_type": "code",
   "execution_count": 40,
   "id": "3863e4b4-c263-44ef-8583-8cd041256195",
   "metadata": {},
   "outputs": [],
   "source": [
    "df=pd.read_csv('Dataset.csv')"
   ]
  },
  {
   "cell_type": "code",
   "execution_count": 41,
   "id": "9ba1dacc-c9b0-429e-8cb4-79fdaf17262c",
   "metadata": {},
   "outputs": [
    {
     "data": {
      "text/html": [
       "<div>\n",
       "<style scoped>\n",
       "    .dataframe tbody tr th:only-of-type {\n",
       "        vertical-align: middle;\n",
       "    }\n",
       "\n",
       "    .dataframe tbody tr th {\n",
       "        vertical-align: top;\n",
       "    }\n",
       "\n",
       "    .dataframe thead th {\n",
       "        text-align: right;\n",
       "    }\n",
       "</style>\n",
       "<table border=\"1\" class=\"dataframe\">\n",
       "  <thead>\n",
       "    <tr style=\"text-align: right;\">\n",
       "      <th></th>\n",
       "      <th>time</th>\n",
       "      <th>input_voltage</th>\n",
       "      <th>el_power</th>\n",
       "    </tr>\n",
       "  </thead>\n",
       "  <tbody>\n",
       "    <tr>\n",
       "      <th>0</th>\n",
       "      <td>810.07028</td>\n",
       "      <td>10.0</td>\n",
       "      <td>1228.791720</td>\n",
       "    </tr>\n",
       "    <tr>\n",
       "      <th>1</th>\n",
       "      <td>811.06938</td>\n",
       "      <td>10.0</td>\n",
       "      <td>1223.041745</td>\n",
       "    </tr>\n",
       "    <tr>\n",
       "      <th>2</th>\n",
       "      <td>812.06848</td>\n",
       "      <td>10.0</td>\n",
       "      <td>1244.960866</td>\n",
       "    </tr>\n",
       "    <tr>\n",
       "      <th>3</th>\n",
       "      <td>813.06758</td>\n",
       "      <td>10.0</td>\n",
       "      <td>1229.259058</td>\n",
       "    </tr>\n",
       "    <tr>\n",
       "      <th>4</th>\n",
       "      <td>814.06668</td>\n",
       "      <td>10.0</td>\n",
       "      <td>1248.117024</td>\n",
       "    </tr>\n",
       "  </tbody>\n",
       "</table>\n",
       "</div>"
      ],
      "text/plain": [
       "        time  input_voltage     el_power\n",
       "0  810.07028           10.0  1228.791720\n",
       "1  811.06938           10.0  1223.041745\n",
       "2  812.06848           10.0  1244.960866\n",
       "3  813.06758           10.0  1229.259058\n",
       "4  814.06668           10.0  1248.117024"
      ]
     },
     "execution_count": 41,
     "metadata": {},
     "output_type": "execute_result"
    }
   ],
   "source": [
    "df.head()"
   ]
  },
  {
   "cell_type": "code",
   "execution_count": 42,
   "id": "d8920db3-d9f5-4367-b0fc-c98e2ec02345",
   "metadata": {},
   "outputs": [
    {
     "data": {
      "text/html": [
       "<div>\n",
       "<style scoped>\n",
       "    .dataframe tbody tr th:only-of-type {\n",
       "        vertical-align: middle;\n",
       "    }\n",
       "\n",
       "    .dataframe tbody tr th {\n",
       "        vertical-align: top;\n",
       "    }\n",
       "\n",
       "    .dataframe thead th {\n",
       "        text-align: right;\n",
       "    }\n",
       "</style>\n",
       "<table border=\"1\" class=\"dataframe\">\n",
       "  <thead>\n",
       "    <tr style=\"text-align: right;\">\n",
       "      <th></th>\n",
       "      <th>time</th>\n",
       "      <th>input_voltage</th>\n",
       "      <th>el_power</th>\n",
       "    </tr>\n",
       "  </thead>\n",
       "  <tbody>\n",
       "    <tr>\n",
       "      <th>count</th>\n",
       "      <td>52940.000000</td>\n",
       "      <td>52940.000000</td>\n",
       "      <td>52940.000000</td>\n",
       "    </tr>\n",
       "    <tr>\n",
       "      <th>mean</th>\n",
       "      <td>5606.444209</td>\n",
       "      <td>5.505534</td>\n",
       "      <td>1843.315949</td>\n",
       "    </tr>\n",
       "    <tr>\n",
       "      <th>std</th>\n",
       "      <td>2960.330233</td>\n",
       "      <td>2.549721</td>\n",
       "      <td>723.126377</td>\n",
       "    </tr>\n",
       "    <tr>\n",
       "      <th>min</th>\n",
       "      <td>810.000000</td>\n",
       "      <td>3.000000</td>\n",
       "      <td>932.837260</td>\n",
       "    </tr>\n",
       "    <tr>\n",
       "      <th>25%</th>\n",
       "      <td>3086.930000</td>\n",
       "      <td>3.000000</td>\n",
       "      <td>1205.743900</td>\n",
       "    </tr>\n",
       "    <tr>\n",
       "      <th>50%</th>\n",
       "      <td>5431.033890</td>\n",
       "      <td>4.842105</td>\n",
       "      <td>1605.753998</td>\n",
       "    </tr>\n",
       "    <tr>\n",
       "      <th>75%</th>\n",
       "      <td>7782.301370</td>\n",
       "      <td>7.421053</td>\n",
       "      <td>2399.419112</td>\n",
       "    </tr>\n",
       "    <tr>\n",
       "      <th>max</th>\n",
       "      <td>12636.840000</td>\n",
       "      <td>10.000000</td>\n",
       "      <td>3249.891217</td>\n",
       "    </tr>\n",
       "  </tbody>\n",
       "</table>\n",
       "</div>"
      ],
      "text/plain": [
       "               time  input_voltage      el_power\n",
       "count  52940.000000   52940.000000  52940.000000\n",
       "mean    5606.444209       5.505534   1843.315949\n",
       "std     2960.330233       2.549721    723.126377\n",
       "min      810.000000       3.000000    932.837260\n",
       "25%     3086.930000       3.000000   1205.743900\n",
       "50%     5431.033890       4.842105   1605.753998\n",
       "75%     7782.301370       7.421053   2399.419112\n",
       "max    12636.840000      10.000000   3249.891217"
      ]
     },
     "execution_count": 42,
     "metadata": {},
     "output_type": "execute_result"
    }
   ],
   "source": [
    "df.describe()"
   ]
  },
  {
   "cell_type": "code",
   "execution_count": null,
   "id": "5a6db8e2-a40e-4c38-a41a-54fe5d07351a",
   "metadata": {},
   "outputs": [],
   "source": []
  },
  {
   "cell_type": "code",
   "execution_count": 44,
   "id": "b5bc7e6e-ffaa-49ff-ba9f-8cf38701189d",
   "metadata": {},
   "outputs": [],
   "source": [
    "\n",
    "# Define X (independent variable) and Y (dependent variable)\n",
    "X = df[['input_voltage']]  # Feature must be 2D\n",
    "Y = df['el_power']  # Target variable\n"
   ]
  },
  {
   "cell_type": "code",
   "execution_count": null,
   "id": "e1b8d48c-8dfe-4769-bf79-e2107de0cbc2",
   "metadata": {},
   "outputs": [],
   "source": []
  },
  {
   "cell_type": "markdown",
   "id": "90d0b31e-02b2-48f6-931c-50342a872483",
   "metadata": {},
   "source": [
    "# PyMC Model \n",
    "- Choose Normal distribution as likelyhood in first model i.e model_1 "
   ]
  },
  {
   "cell_type": "code",
   "execution_count": null,
   "id": "9b98b342-79ba-40ab-8454-aab253bde957",
   "metadata": {},
   "outputs": [],
   "source": [
    "with pm.Model() as model_1:\n",
    "    α = ?\n",
    "    β = ?\n",
    "    ϵ = ?\n",
    "\n",
    "    μ = pm.Deterministic('μ', α + β * x)\n",
    "    y_pred = Normal\n",
    "\n",
    "    idata_model_1 = pm.sample(1000)"
   ]
  },
  {
   "cell_type": "code",
   "execution_count": null,
   "id": "ccbf0440-b2cb-4501-8c72-5036420dec08",
   "metadata": {},
   "outputs": [],
   "source": []
  },
  {
   "cell_type": "markdown",
   "id": "ef8c6255-cf69-497b-bd59-84c53df9b9a1",
   "metadata": {},
   "source": [
    "- Complete the following model\n",
    "- Choose Gamma distribution as likelyhood "
   ]
  },
  {
   "cell_type": "code",
   "execution_count": null,
   "id": "49dbc3f6-ce04-4600-8485-a4c77f96c768",
   "metadata": {},
   "outputs": [],
   "source": [
    "\n",
    "with pm.Model() as model_2:\n",
    "    \n",
    "    α = ?\n",
    "    β = ?\n",
    "    ϵ = ?\n",
    "\n",
    "    μ = pm.Deterministic('μ', α + β * x)\n",
    "    \n",
    "    y_pred = Gamma\n",
    "\n",
    "    idata_model_2 = pm.sample(1000)\n"
   ]
  },
  {
   "cell_type": "markdown",
   "id": "642f3075-063b-43fb-a1c8-228f0d2a80c7",
   "metadata": {},
   "source": [
    "**show the learned parameters**\n",
    "\n",
    "***Note*** this is just an example, not exactly like this, may be different on your machine"
   ]
  },
  {
   "cell_type": "code",
   "execution_count": 49,
   "id": "5d0af2cc-e328-4436-8072-0ef0258ff1d8",
   "metadata": {},
   "outputs": [
    {
     "data": {
      "text/html": [
       "<div>\n",
       "<style scoped>\n",
       "    .dataframe tbody tr th:only-of-type {\n",
       "        vertical-align: middle;\n",
       "    }\n",
       "\n",
       "    .dataframe tbody tr th {\n",
       "        vertical-align: top;\n",
       "    }\n",
       "\n",
       "    .dataframe thead th {\n",
       "        text-align: right;\n",
       "    }\n",
       "</style>\n",
       "<table border=\"1\" class=\"dataframe\">\n",
       "  <thead>\n",
       "    <tr style=\"text-align: right;\">\n",
       "      <th></th>\n",
       "      <th>mean</th>\n",
       "      <th>sd</th>\n",
       "      <th>hdi_3%</th>\n",
       "      <th>hdi_97%</th>\n",
       "      <th>mcse_mean</th>\n",
       "      <th>mcse_sd</th>\n",
       "      <th>ess_bulk</th>\n",
       "      <th>ess_tail</th>\n",
       "      <th>r_hat</th>\n",
       "    </tr>\n",
       "  </thead>\n",
       "  <tbody>\n",
       "    <tr>\n",
       "      <th>α</th>\n",
       "      <td>321.667</td>\n",
       "      <td>3.082</td>\n",
       "      <td>315.442</td>\n",
       "      <td>326.703</td>\n",
       "      <td>0.261</td>\n",
       "      <td>0.185</td>\n",
       "      <td>142.0</td>\n",
       "      <td>210.0</td>\n",
       "      <td>1.01</td>\n",
       "    </tr>\n",
       "    <tr>\n",
       "      <th>β</th>\n",
       "      <td>271.117</td>\n",
       "      <td>0.532</td>\n",
       "      <td>270.117</td>\n",
       "      <td>272.042</td>\n",
       "      <td>0.044</td>\n",
       "      <td>0.031</td>\n",
       "      <td>145.0</td>\n",
       "      <td>159.0</td>\n",
       "      <td>1.00</td>\n",
       "    </tr>\n",
       "    <tr>\n",
       "      <th>ϵ</th>\n",
       "      <td>346.099</td>\n",
       "      <td>0.927</td>\n",
       "      <td>344.408</td>\n",
       "      <td>347.701</td>\n",
       "      <td>0.057</td>\n",
       "      <td>0.040</td>\n",
       "      <td>267.0</td>\n",
       "      <td>270.0</td>\n",
       "      <td>1.00</td>\n",
       "    </tr>\n",
       "    <tr>\n",
       "      <th>μ[0]</th>\n",
       "      <td>3032.841</td>\n",
       "      <td>2.943</td>\n",
       "      <td>3027.617</td>\n",
       "      <td>3038.442</td>\n",
       "      <td>0.172</td>\n",
       "      <td>0.122</td>\n",
       "      <td>294.0</td>\n",
       "      <td>263.0</td>\n",
       "      <td>1.01</td>\n",
       "    </tr>\n",
       "    <tr>\n",
       "      <th>μ[1]</th>\n",
       "      <td>3032.841</td>\n",
       "      <td>2.943</td>\n",
       "      <td>3027.617</td>\n",
       "      <td>3038.442</td>\n",
       "      <td>0.172</td>\n",
       "      <td>0.122</td>\n",
       "      <td>294.0</td>\n",
       "      <td>263.0</td>\n",
       "      <td>1.01</td>\n",
       "    </tr>\n",
       "    <tr>\n",
       "      <th>...</th>\n",
       "      <td>...</td>\n",
       "      <td>...</td>\n",
       "      <td>...</td>\n",
       "      <td>...</td>\n",
       "      <td>...</td>\n",
       "      <td>...</td>\n",
       "      <td>...</td>\n",
       "      <td>...</td>\n",
       "      <td>...</td>\n",
       "    </tr>\n",
       "    <tr>\n",
       "      <th>μ[52935]</th>\n",
       "      <td>2284.557</td>\n",
       "      <td>1.797</td>\n",
       "      <td>2281.639</td>\n",
       "      <td>2288.363</td>\n",
       "      <td>0.085</td>\n",
       "      <td>0.060</td>\n",
       "      <td>450.0</td>\n",
       "      <td>322.0</td>\n",
       "      <td>1.02</td>\n",
       "    </tr>\n",
       "    <tr>\n",
       "      <th>μ[52936]</th>\n",
       "      <td>2284.557</td>\n",
       "      <td>1.797</td>\n",
       "      <td>2281.639</td>\n",
       "      <td>2288.363</td>\n",
       "      <td>0.085</td>\n",
       "      <td>0.060</td>\n",
       "      <td>450.0</td>\n",
       "      <td>322.0</td>\n",
       "      <td>1.02</td>\n",
       "    </tr>\n",
       "    <tr>\n",
       "      <th>μ[52937]</th>\n",
       "      <td>2284.557</td>\n",
       "      <td>1.797</td>\n",
       "      <td>2281.639</td>\n",
       "      <td>2288.363</td>\n",
       "      <td>0.085</td>\n",
       "      <td>0.060</td>\n",
       "      <td>450.0</td>\n",
       "      <td>322.0</td>\n",
       "      <td>1.02</td>\n",
       "    </tr>\n",
       "    <tr>\n",
       "      <th>μ[52938]</th>\n",
       "      <td>2284.557</td>\n",
       "      <td>1.797</td>\n",
       "      <td>2281.639</td>\n",
       "      <td>2288.363</td>\n",
       "      <td>0.085</td>\n",
       "      <td>0.060</td>\n",
       "      <td>450.0</td>\n",
       "      <td>322.0</td>\n",
       "      <td>1.02</td>\n",
       "    </tr>\n",
       "    <tr>\n",
       "      <th>μ[52939]</th>\n",
       "      <td>2284.557</td>\n",
       "      <td>1.797</td>\n",
       "      <td>2281.639</td>\n",
       "      <td>2288.363</td>\n",
       "      <td>0.085</td>\n",
       "      <td>0.060</td>\n",
       "      <td>450.0</td>\n",
       "      <td>322.0</td>\n",
       "      <td>1.02</td>\n",
       "    </tr>\n",
       "  </tbody>\n",
       "</table>\n",
       "<p>52943 rows × 9 columns</p>\n",
       "</div>"
      ],
      "text/plain": [
       "              mean     sd    hdi_3%   hdi_97%  mcse_mean  mcse_sd  ess_bulk  \\\n",
       "α          321.667  3.082   315.442   326.703      0.261    0.185     142.0   \n",
       "β          271.117  0.532   270.117   272.042      0.044    0.031     145.0   \n",
       "ϵ          346.099  0.927   344.408   347.701      0.057    0.040     267.0   \n",
       "μ[0]      3032.841  2.943  3027.617  3038.442      0.172    0.122     294.0   \n",
       "μ[1]      3032.841  2.943  3027.617  3038.442      0.172    0.122     294.0   \n",
       "...            ...    ...       ...       ...        ...      ...       ...   \n",
       "μ[52935]  2284.557  1.797  2281.639  2288.363      0.085    0.060     450.0   \n",
       "μ[52936]  2284.557  1.797  2281.639  2288.363      0.085    0.060     450.0   \n",
       "μ[52937]  2284.557  1.797  2281.639  2288.363      0.085    0.060     450.0   \n",
       "μ[52938]  2284.557  1.797  2281.639  2288.363      0.085    0.060     450.0   \n",
       "μ[52939]  2284.557  1.797  2281.639  2288.363      0.085    0.060     450.0   \n",
       "\n",
       "          ess_tail  r_hat  \n",
       "α            210.0   1.01  \n",
       "β            159.0   1.00  \n",
       "ϵ            270.0   1.00  \n",
       "μ[0]         263.0   1.01  \n",
       "μ[1]         263.0   1.01  \n",
       "...            ...    ...  \n",
       "μ[52935]     322.0   1.02  \n",
       "μ[52936]     322.0   1.02  \n",
       "μ[52937]     322.0   1.02  \n",
       "μ[52938]     322.0   1.02  \n",
       "μ[52939]     322.0   1.02  \n",
       "\n",
       "[52943 rows x 9 columns]"
      ]
     },
     "execution_count": 49,
     "metadata": {},
     "output_type": "execute_result"
    }
   ],
   "source": [
    "pm.summary(idata_g)"
   ]
  },
  {
   "cell_type": "markdown",
   "id": "a1f68406-03a7-404e-aaa4-9141b1fdb39b",
   "metadata": {},
   "source": [
    "Plot the posterior of the two models and test wether parameters are co-related to each other or not, if correlated then remove it by standerdizing the data"
   ]
  },
  {
   "cell_type": "code",
   "execution_count": 26,
   "id": "1bbd9a6a-ca4a-4cc9-809e-7cb1cb45dd76",
   "metadata": {},
   "outputs": [
    {
     "data": {
      "image/png": "[encoded data removed]",
      "text/plain": [
       "<Figure size 640x480 with 1 Axes>"
      ]
     },
     "metadata": {},
     "output_type": "display_data"
    }
   ],
   "source": []
  },
  {
   "cell_type": "markdown",
   "id": "a31ca577-99b3-45bc-a3ca-808845c059e7",
   "metadata": {},
   "source": [
    "- Do posterior analysis of each model as given below,"
   ]
  },
  {
   "cell_type": "markdown",
   "id": "784c222b-4971-4e48-ab17-671ad9bbf896",
   "metadata": {},
   "source": [
    "**Note:** this is just one plot just for sake of example. You must analyse both model, for more details checkout chapter 3."
   ]
  },
  {
   "cell_type": "code",
   "execution_count": 27,
   "id": "7f3fa47a-5227-4fd4-817f-a9d6c49ed45c",
   "metadata": {},
   "outputs": [
    {
     "data": {
      "image/png": "[encoded data removed]",
      "text/plain": [
       "<Figure size 640x480 with 1 Axes>"
      ]
     },
     "metadata": {},
     "output_type": "display_data"
    }
   ],
   "source": [
    "### "
   ]
  },
  {
   "cell_type": "code",
   "execution_count": 29,
   "id": "8b4c7e29-6726-4eaf-b271-315cbaa32c8d",
   "metadata": {},
   "outputs": [
    {
     "name": "stderr",
     "output_type": "stream",
     "text": [
      "Sampling: [y_pred]\n"
     ]
    },
    {
     "data": {
      "application/vnd.jupyter.widget-view+json": {
       "model_id": "f694475784774368aafbf6aeacbf5e84",
       "version_major": 2,
       "version_minor": 0
      },
      "text/plain": [
       "Output()"
      ]
     },
     "metadata": {},
     "output_type": "display_data"
    },
    {
     "data": {
      "text/html": [
       "<pre style=\"white-space:pre;overflow-x:auto;line-height:normal;font-family:Menlo,'DejaVu Sans Mono',consolas,'Courier New',monospace\"></pre>\n"
      ],
      "text/plain": []
     },
     "metadata": {},
     "output_type": "display_data"
    },
    {
     "data": {
      "image/png": "[encoded data removed]",
      "text/plain": [
       "<Figure size 640x480 with 1 Axes>"
      ]
     },
     "metadata": {},
     "output_type": "display_data"
    }
   ],
   "source": []
  },
  {
   "cell_type": "code",
   "execution_count": null,
   "id": "57e5839f-6e2b-4c81-9db8-f44d1e5cdb22",
   "metadata": {},
   "outputs": [],
   "source": []
  },
  {
   "cell_type": "code",
   "execution_count": null,
   "id": "441cacc4-f466-468b-8a3a-e9db0c92626b",
   "metadata": {},
   "outputs": [],
   "source": []
  },
  {
   "cell_type": "markdown",
   "id": "61a9daeb-65b6-4ad5-b7f5-3ea35445c3ff",
   "metadata": {},
   "source": [
    "Each Model R-sqaured value, and do analysis with respect to different likelyhood"
   ]
  },
  {
   "cell_type": "code",
   "execution_count": 30,
   "id": "f40c51de-c68e-4a96-9c1a-d07a0eb2e4aa",
   "metadata": {},
   "outputs": [
    {
     "data": {
      "text/plain": [
       "r2        0.714606\n",
       "r2_std    0.001309\n",
       "dtype: float64"
      ]
     },
     "execution_count": 30,
     "metadata": {},
     "output_type": "execute_result"
    }
   ],
   "source": []
  },
  {
   "cell_type": "code",
   "execution_count": null,
   "id": "57d92931-d81f-493e-8b54-327b485dd01e",
   "metadata": {},
   "outputs": [],
   "source": []
  },
  {
   "cell_type": "markdown",
   "id": "c195524a-98d3-441a-829b-e2f084ba4fac",
   "metadata": {},
   "source": [
    "**Conclusion:** Compare the impact of using ***Normal*** vs. ***Gamma*** distribution as the likelihood for this dataset. Explain why the model with the higher R-squared value provides a better fit in terms of likelihood."
   ]
  },
  {
   "cell_type": "markdown",
   "id": "630d3d2d-fce3-4e7d-aded-bcb055424411",
   "metadata": {},
   "source": []
  }
 ],
 "metadata": {
  "kernelspec": {
   "display_name": "Python 3 (ipykernel)",
   "language": "python",
   "name": "python3"
  },
  "language_info": {
   "codemirror_mode": {
    "name": "ipython",
    "version": 3
   },
   "file_extension": ".py",
   "mimetype": "text/x-python",
   "name": "python",
   "nbconvert_exporter": "python",
   "pygments_lexer": "ipython3",
   "version": "3.12.7"
  }
 },
 "nbformat": 4,
 "nbformat_minor": 5
}
