{
 "cells": [
  {
   "cell_type": "code",
   "execution_count": 22,
   "metadata": {},
   "outputs": [],
   "source": [
    "import numpy as np\n",
    "import pandas as pd\n",
    "from sklearn.metrics import accuracy_score, precision_score, recall_score, f1_score, confusion_matrix\n",
    "import matplotlib.pyplot as plt\n",
    "import seaborn as sns\n",
    "import re\n",
    "from collections import Counter"
   ]
  },
  {
   "cell_type": "markdown",
   "metadata": {},
   "source": [
    "Load Preprocessed Data and Embeddings"
   ]
  },
  {
   "cell_type": "code",
   "execution_count": 23,
   "metadata": {},
   "outputs": [
    {
     "name": "stdout",
     "output_type": "stream",
     "text": [
      "Data preprocessing and vocabulary setup completed.\n"
     ]
    }
   ],
   "source": [
    "# Load the dataset\n",
    "data = pd.read_csv(\"spam_or_not_spam.csv\")\n",
    "data = data.dropna(subset=['email'])\n",
    "data['email'] = data['email'].astype(str)\n",
    "\n",
    "# Preprocess the data\n",
    "def preprocess_text(text):\n",
    "    \"\"\"\n",
    "    Preprocesses the input text by removing numbers, special characters, and converting to lowercase.\n",
    "    \"\"\"\n",
    "    text = re.sub(r'\\d+', '', text)  # Remove numbers\n",
    "    text = re.sub(r'[^\\w\\s]', '', text)  # Remove punctuation and special characters\n",
    "    text = text.lower()  # Convert to lowercase\n",
    "    return text\n",
    "\n",
    "data['cleaned_email'] = data['email'].apply(preprocess_text)\n",
    "data['tokens'] = data['cleaned_email'].apply(lambda x: x.split())\n",
    "\n",
    "# Load the word embeddings\n",
    "word_embeddings = np.load(\"wordEmbeddings.npy\")  # Ensure this file exists in the same directory\n",
    "vocab_size, EMBEDDING_DIM = word_embeddings.shape\n",
    "\n",
    "# Build the vocabulary mapping\n",
    "corpus = data['tokens'].tolist()\n",
    "word_counts = Counter([word for sentence in corpus for word in sentence])\n",
    "vocab = list(word_counts.keys())\n",
    "word_to_index = {word: i for i, word in enumerate(vocab)}\n",
    "index_to_word = {i: word for i, word in enumerate(vocab)}\n",
    "\n",
    "print(\"Data preprocessing and vocabulary setup completed.\")\n"
   ]
  },
  {
   "cell_type": "markdown",
   "metadata": {},
   "source": [
    "Prepare Data for Neural Network"
   ]
  },
  {
   "cell_type": "code",
   "execution_count": 24,
   "metadata": {},
   "outputs": [
    {
     "name": "stdout",
     "output_type": "stream",
     "text": [
      "Input shape: (2999, 120), Output shape: (2999,)\n"
     ]
    }
   ],
   "source": [
    "# Define sequence length\n",
    "SEQUENCE_LENGTH = 12  # Emails will be represented by 12 words\n",
    "\n",
    "# Function to pad or truncate sequences\n",
    "def pad_or_truncate(tokens, sequence_length):\n",
    "    \"\"\"\n",
    "    Pads or truncates token lists to a fixed length.\n",
    "    \"\"\"\n",
    "    tokens = tokens[:sequence_length]\n",
    "    if len(tokens) < sequence_length:\n",
    "        tokens += ['<PAD>'] * (sequence_length - len(tokens))\n",
    "    return tokens\n",
    "\n",
    "# Add a special token for padding if not already present\n",
    "if '<PAD>' not in word_to_index:\n",
    "    word_to_index['<PAD>'] = len(word_to_index)  # Assign the next available index to <PAD>\n",
    "\n",
    "# Check for tokens in word_to_index that are missing in word_embeddings\n",
    "missing_tokens = len(word_to_index) - word_embeddings.shape[0]\n",
    "\n",
    "# Add zero vectors to word_embeddings for missing tokens\n",
    "if missing_tokens > 0:\n",
    "    extra_rows = np.zeros((missing_tokens, EMBEDDING_DIM))\n",
    "    word_embeddings = np.vstack([word_embeddings, extra_rows])\n",
    "\n",
    "# Validate that word_to_index and word_embeddings are now aligned\n",
    "assert len(word_to_index) == word_embeddings.shape[0], (\n",
    "    f\"Mismatch detected: word_to_index size ({len(word_to_index)}) != word_embeddings size ({word_embeddings.shape[0]})\"\n",
    ")\n",
    "\n",
    "# Convert tokens to sequences of indices\n",
    "data['sequence'] = data['tokens'].apply(\n",
    "    lambda x: [word_to_index.get(word, word_to_index['<PAD>']) for word in pad_or_truncate(x, SEQUENCE_LENGTH)]\n",
    ")\n",
    "\n",
    "# Prepare input features (X) and labels (y)\n",
    "X = np.array([\n",
    "    np.concatenate([word_embeddings[idx] for idx in seq])  # Convert each index to its corresponding embedding\n",
    "    for seq in data['sequence']\n",
    "])\n",
    "y = data['label'].values\n",
    "\n",
    "# Print the resulting shapes for validation\n",
    "print(f\"Input shape: {X.shape}, Output shape: {y.shape}\")\n"
   ]
  },
  {
   "cell_type": "markdown",
   "metadata": {},
   "source": [
    "Define Neural Network Structure"
   ]
  },
  {
   "cell_type": "code",
   "execution_count": 25,
   "metadata": {},
   "outputs": [],
   "source": [
    "# Network architecture\n",
    "INPUT_SIZE = SEQUENCE_LENGTH * EMBEDDING_DIM  # 12 words * 10 dimensions = 120\n",
    "HIDDEN_SIZE_1 = 8\n",
    "HIDDEN_SIZE_2 = 2\n",
    "OUTPUT_SIZE = 1\n",
    "\n",
    "# Initialize weights\n",
    "np.random.seed(42)\n",
    "W1 = np.random.uniform(-1, 1, (INPUT_SIZE, HIDDEN_SIZE_1))\n",
    "W2 = np.random.uniform(-1, 1, (HIDDEN_SIZE_1, HIDDEN_SIZE_2))\n",
    "W3 = np.random.uniform(-1, 1, (HIDDEN_SIZE_2, OUTPUT_SIZE))"
   ]
  },
  {
   "cell_type": "markdown",
   "metadata": {},
   "source": [
    "Define Activation Functions and Their Derivatives"
   ]
  },
  {
   "cell_type": "code",
   "execution_count": 26,
   "metadata": {},
   "outputs": [],
   "source": [
    "def relu(x):\n",
    "    \"\"\"\n",
    "    Applies the ReLU activation function.\n",
    "    \"\"\"\n",
    "    return np.maximum(0, x)\n",
    "\n",
    "def relu_derivative(x):\n",
    "    \"\"\"\n",
    "    Computes the derivative of ReLU activation function.\n",
    "    \"\"\"\n",
    "    return np.where(x > 0, 1, 0)\n",
    "\n",
    "def sigmoid(x):\n",
    "    \"\"\"\n",
    "    Applies the sigmoid activation function.\n",
    "    \"\"\"\n",
    "    return 1 / (1 + np.exp(-x))\n",
    "\n",
    "def sigmoid_derivative(x):\n",
    "    \"\"\"\n",
    "    Computes the derivative of sigmoid activation function.\n",
    "    \"\"\"\n",
    "    s = sigmoid(x)\n",
    "    return s * (1 - s)"
   ]
  },
  {
   "cell_type": "markdown",
   "metadata": {},
   "source": [
    "Train the Neural Network"
   ]
  },
  {
   "cell_type": "code",
   "execution_count": 27,
   "metadata": {},
   "outputs": [
    {
     "name": "stdout",
     "output_type": "stream",
     "text": [
      "Epoch 1/10, Average Loss: 0.2110\n",
      "Epoch 2/10, Average Loss: 0.4620\n",
      "Epoch 3/10, Average Loss: 0.3900\n",
      "Epoch 4/10, Average Loss: 0.3401\n",
      "Epoch 5/10, Average Loss: 0.3433\n",
      "Epoch 6/10, Average Loss: 0.3489\n",
      "Epoch 7/10, Average Loss: 0.3466\n",
      "Epoch 8/10, Average Loss: 0.3463\n",
      "Epoch 9/10, Average Loss: 0.3425\n",
      "Epoch 10/10, Average Loss: 0.3430\n"
     ]
    }
   ],
   "source": [
    "# Training parameters\n",
    "LEARNING_RATE = 0.001\n",
    "EPOCHS = 10\n",
    "\n",
    "# Training loop\n",
    "for epoch in range(EPOCHS):\n",
    "    total_loss = 0\n",
    "    for i in range(len(X)):\n",
    "        # Forward pass\n",
    "        x = X[i].reshape(1, -1)\n",
    "        y_true = y[i]\n",
    "        \n",
    "        z1 = np.dot(x, W1)\n",
    "        a1 = relu(z1)\n",
    "        \n",
    "        z2 = np.dot(a1, W2)\n",
    "        a2 = relu(z2)\n",
    "        \n",
    "        z3 = np.dot(a2, W3)\n",
    "        y_pred = sigmoid(z3)\n",
    "        \n",
    "        # Compute loss (binary cross-entropy)\n",
    "        loss = - (y_true * np.log(y_pred + 1e-8) + (1 - y_true) * np.log(1 - y_pred + 1e-8))\n",
    "        total_loss += loss.item()\n",
    "        \n",
    "        # Backward pass\n",
    "        dz3 = y_pred - y_true  # Derivative of loss w.r.t z3\n",
    "        dW3 = np.dot(a2.T, dz3)\n",
    "        \n",
    "        dz2 = np.dot(dz3, W3.T) * relu_derivative(z2)\n",
    "        dW2 = np.dot(a1.T, dz2)\n",
    "        \n",
    "        dz1 = np.dot(dz2, W2.T) * relu_derivative(z1)\n",
    "        dW1 = np.dot(x.T, dz1)\n",
    "        \n",
    "        # Update weights\n",
    "        W3 -= LEARNING_RATE * dW3\n",
    "        W2 -= LEARNING_RATE * dW2\n",
    "        W1 -= LEARNING_RATE * dW1\n",
    "    \n",
    "    avg_loss = total_loss / len(X)\n",
    "    print(f\"Epoch {epoch + 1}/{EPOCHS}, Average Loss: {avg_loss:.4f}\")"
   ]
  },
  {
   "cell_type": "markdown",
   "metadata": {},
   "source": [
    "Evaluate the Model"
   ]
  },
  {
   "cell_type": "code",
   "execution_count": 28,
   "metadata": {},
   "outputs": [
    {
     "name": "stdout",
     "output_type": "stream",
     "text": [
      "Accuracy: 0.20\n",
      "Precision: 0.17\n",
      "Recall: 0.95\n",
      "F1 Score: 0.28\n"
     ]
    }
   ],
   "source": [
    "# Forward pass for all samples\n",
    "def forward_pass(X):\n",
    "    z1 = np.dot(X, W1)\n",
    "    a1 = relu(z1)\n",
    "    z2 = np.dot(a1, W2)\n",
    "    a2 = relu(z2)\n",
    "    z3 = np.dot(a2, W3)\n",
    "    y_pred = sigmoid(z3)\n",
    "    return y_pred\n",
    "\n",
    "# Get predictions\n",
    "y_probs = forward_pass(X).flatten()\n",
    "y_pred = (y_probs >= 0.5).astype(int)\n",
    "\n",
    "# Calculate evaluation metrics\n",
    "accuracy = accuracy_score(y, y_pred)\n",
    "precision = precision_score(y, y_pred)\n",
    "recall = recall_score(y, y_pred)\n",
    "f1 = f1_score(y, y_pred)\n",
    "\n",
    "print(f\"Accuracy: {accuracy:.2f}\")\n",
    "print(f\"Precision: {precision:.2f}\")\n",
    "print(f\"Recall: {recall:.2f}\")\n",
    "print(f\"F1 Score: {f1:.2f}\")"
   ]
  },
  {
   "cell_type": "markdown",
   "metadata": {},
   "source": [
    "Visualize the Confusion Matrix"
   ]
  },
  {
   "cell_type": "code",
   "execution_count": 29,
   "metadata": {},
   "outputs": [
    {
     "data": {
      "image/png": "[encoded data removed]",
      "text/plain": [
       "<Figure size 600x400 with 2 Axes>"
      ]
     },
     "metadata": {},
     "output_type": "display_data"
    }
   ],
   "source": [
    "# Generate confusion matrix\n",
    "cm = confusion_matrix(y, y_pred)\n",
    "\n",
    "# Plot confusion matrix\n",
    "plt.figure(figsize=(6, 4))\n",
    "sns.heatmap(cm, annot=True, fmt='d', cmap='Blues', xticklabels=['Not Spam', 'Spam'], yticklabels=['Not Spam', 'Spam'])\n",
    "plt.title('Confusion Matrix')\n",
    "plt.xlabel('Predicted Label')\n",
    "plt.ylabel('True Label')\n",
    "plt.show()"
   ]
  }
 ],
 "metadata": {
  "kernelspec": {
   "display_name": "Python 3",
   "language": "python",
   "name": "python3"
  },
  "language_info": {
   "codemirror_mode": {
    "name": "ipython",
    "version": 3
   },
   "file_extension": ".py",
   "mimetype": "text/x-python",
   "name": "python",
   "nbconvert_exporter": "python",
   "pygments_lexer": "ipython3",
   "version": "3.13.0"
  }
 },
 "nbformat": 4,
 "nbformat_minor": 2
}
